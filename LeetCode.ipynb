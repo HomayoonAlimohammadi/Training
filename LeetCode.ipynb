{
 "cells": [
  {
   "cell_type": "markdown",
   "id": "a0259f9a",
   "metadata": {},
   "source": [
    "### 4. Median of Two Sorted Arrays"
   ]
  },
  {
   "cell_type": "code",
   "execution_count": 1,
   "id": "79a1d0ba",
   "metadata": {},
   "outputs": [
    {
     "data": {
      "text/plain": [
       "2.0"
      ]
     },
     "execution_count": 1,
     "metadata": {},
     "output_type": "execute_result"
    }
   ],
   "source": [
    "from typing import List\n",
    "\n",
    "class Solution:\n",
    "    def findMedianSortedArrays(self, nums1: List[int], nums2: List[int]) -> float:\n",
    "        final = sorted(nums1+nums2)\n",
    "        if len(final) % 2 == 0:\n",
    "            return (final[len(final)//2-1]+final[len(final)//2])/2\n",
    "        return float(final[len(final)//2])\n",
    "    \n",
    "S = Solution()\n",
    "nums1 = [1,2,3]\n",
    "nums2 = [1,2,4]\n",
    "S.findMedianSortedArrays(nums1, nums2)"
   ]
  },
  {
   "cell_type": "markdown",
   "id": "50ed3e41",
   "metadata": {},
   "source": [
    "### 53. Maximum Subarray"
   ]
  },
  {
   "cell_type": "code",
   "execution_count": 12,
   "id": "d7d0902c",
   "metadata": {},
   "outputs": [
    {
     "data": {
      "text/plain": [
       "6"
      ]
     },
     "execution_count": 12,
     "metadata": {},
     "output_type": "execute_result"
    }
   ],
   "source": [
    "from typing import List\n",
    "import numpy as np\n",
    "\n",
    "class Solution:\n",
    "    def maxSubArray(self, nums: List[int]) -> int:\n",
    "        overall_max = float('-inf')\n",
    "        max_ending_here = 0\n",
    "        for num in nums:\n",
    "            if max_ending_here > 0:\n",
    "                max_ending_here += num\n",
    "            else:\n",
    "                max_ending_here = num\n",
    "            overall_max = max(overall_max, max_ending_here)\n",
    "        return overall_max\n",
    "        \n",
    "    \n",
    "nums = [-2,1,-3,4,-1,2,1,-5,4]\n",
    "S = Solution()\n",
    "S.maxSubArray(nums)"
   ]
  },
  {
   "cell_type": "code",
   "execution_count": null,
   "id": "2cdbb93c",
   "metadata": {},
   "outputs": [],
   "source": []
  }
 ],
 "metadata": {
  "kernelspec": {
   "display_name": "Python 3 (ipykernel)",
   "language": "python",
   "name": "python3"
  },
  "language_info": {
   "codemirror_mode": {
    "name": "ipython",
    "version": 3
   },
   "file_extension": ".py",
   "mimetype": "text/x-python",
   "name": "python",
   "nbconvert_exporter": "python",
   "pygments_lexer": "ipython3",
   "version": "3.9.7"
  }
 },
 "nbformat": 4,
 "nbformat_minor": 5
}
