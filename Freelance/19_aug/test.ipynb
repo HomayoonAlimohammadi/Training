{
 "cells": [
  {
   "cell_type": "code",
   "execution_count": 42,
   "metadata": {},
   "outputs": [],
   "source": [
    "import numpy as np \n",
    "import pandas as pd\n",
    "from wall import data "
   ]
  },
  {
   "cell_type": "code",
   "execution_count": 43,
   "metadata": {},
   "outputs": [
    {
     "data": {
      "text/plain": [
       "array([['Roof', 'PA', 'EY', 'Top', '-3810.426967167175',\n",
       "        '15804.310691545565', '-122.08653650624561',\n",
       "        '-549515.4108478783', '19877.305321804193',\n",
       "        '-2039204.9010094474'],\n",
       "       ['Roof', 'PA', 'EY', 'Bottom', '-3810.4269671674183',\n",
       "        '15804.310691542862', '-122.08653650643586',\n",
       "        '-549402.2355357398', '-15960.764038734616',\n",
       "        '2710508.1169262845']], dtype='<U32')"
      ]
     },
     "execution_count": 43,
     "metadata": {},
     "output_type": "execute_result"
    }
   ],
   "source": [
    "data = np.array(data).T\n",
    "data[:2]"
   ]
  },
  {
   "cell_type": "code",
   "execution_count": 44,
   "metadata": {},
   "outputs": [
    {
     "data": {
      "text/plain": [
       "[array(['Roof', 'PA', 'EY', 'Bottom', '-3810.4269671674183',\n",
       "        '15804.310691542862', '-122.08653650643586', '-549402.2355357398',\n",
       "        '-15960.764038734616', '2710508.1169262845'], dtype='<U32'),\n",
       " array(['Roof', 'PD', 'EY', 'Bottom', '-7925.835351106397',\n",
       "        '19730.099622941623', '53.83346510553132', '772209.5361257877',\n",
       "        '-3691.1150826993985', '2966151.356253169'], dtype='<U32'),\n",
       " array(['St4', 'PA', 'EY', 'Bottom', '-8251.57223671287',\n",
       "        '41637.617343441816', '-86.29642500713152', '-300654.97881902533',\n",
       "        '-9618.479980287264', '13740463.300083032'], dtype='<U32')]"
      ]
     },
     "execution_count": 44,
     "metadata": {},
     "output_type": "execute_result"
    }
   ],
   "source": [
    "data = list(filter(lambda row: row[3].lower() != 'top', data))\n",
    "data[:3]"
   ]
  },
  {
   "cell_type": "code",
   "execution_count": 45,
   "metadata": {},
   "outputs": [
    {
     "data": {
      "text/html": [
       "<div>\n",
       "<style scoped>\n",
       "    .dataframe tbody tr th:only-of-type {\n",
       "        vertical-align: middle;\n",
       "    }\n",
       "\n",
       "    .dataframe tbody tr th {\n",
       "        vertical-align: top;\n",
       "    }\n",
       "\n",
       "    .dataframe thead th {\n",
       "        text-align: right;\n",
       "    }\n",
       "</style>\n",
       "<table border=\"1\" class=\"dataframe\">\n",
       "  <thead>\n",
       "    <tr style=\"text-align: right;\">\n",
       "      <th></th>\n",
       "      <th>Story</th>\n",
       "      <th>Pier</th>\n",
       "      <th>Output Case</th>\n",
       "      <th>Location</th>\n",
       "      <th>V1</th>\n",
       "      <th>V2</th>\n",
       "      <th>V3</th>\n",
       "      <th>V4</th>\n",
       "      <th>V5</th>\n",
       "      <th>V6</th>\n",
       "    </tr>\n",
       "  </thead>\n",
       "  <tbody>\n",
       "    <tr>\n",
       "      <th>0</th>\n",
       "      <td>Roof</td>\n",
       "      <td>PA</td>\n",
       "      <td>EY</td>\n",
       "      <td>Bottom</td>\n",
       "      <td>-3810.4269671674183</td>\n",
       "      <td>15804.310691542862</td>\n",
       "      <td>-122.08653650643586</td>\n",
       "      <td>-549402.2355357398</td>\n",
       "      <td>-15960.764038734616</td>\n",
       "      <td>2710508.1169262845</td>\n",
       "    </tr>\n",
       "    <tr>\n",
       "      <th>1</th>\n",
       "      <td>Roof</td>\n",
       "      <td>PD</td>\n",
       "      <td>EY</td>\n",
       "      <td>Bottom</td>\n",
       "      <td>-7925.835351106397</td>\n",
       "      <td>19730.099622941623</td>\n",
       "      <td>53.83346510553132</td>\n",
       "      <td>772209.5361257877</td>\n",
       "      <td>-3691.1150826993985</td>\n",
       "      <td>2966151.356253169</td>\n",
       "    </tr>\n",
       "    <tr>\n",
       "      <th>2</th>\n",
       "      <td>St4</td>\n",
       "      <td>PA</td>\n",
       "      <td>EY</td>\n",
       "      <td>Bottom</td>\n",
       "      <td>-8251.57223671287</td>\n",
       "      <td>41637.617343441816</td>\n",
       "      <td>-86.29642500713152</td>\n",
       "      <td>-300654.97881902533</td>\n",
       "      <td>-9618.479980287264</td>\n",
       "      <td>13740463.300083032</td>\n",
       "    </tr>\n",
       "    <tr>\n",
       "      <th>3</th>\n",
       "      <td>St4</td>\n",
       "      <td>PD</td>\n",
       "      <td>EY</td>\n",
       "      <td>Bottom</td>\n",
       "      <td>-13733.551492014802</td>\n",
       "      <td>46363.99835570217</td>\n",
       "      <td>-132.72684725954545</td>\n",
       "      <td>482168.0075463219</td>\n",
       "      <td>-13443.767737050332</td>\n",
       "      <td>15145310.845355691</td>\n",
       "    </tr>\n",
       "    <tr>\n",
       "      <th>4</th>\n",
       "      <td>St3</td>\n",
       "      <td>PA</td>\n",
       "      <td>EY</td>\n",
       "      <td>Bottom</td>\n",
       "      <td>-12524.321619605606</td>\n",
       "      <td>57608.35367622349</td>\n",
       "      <td>-117.52641118085953</td>\n",
       "      <td>-383149.5888921187</td>\n",
       "      <td>-10763.425355175874</td>\n",
       "      <td>29970573.18344831</td>\n",
       "    </tr>\n",
       "  </tbody>\n",
       "</table>\n",
       "</div>"
      ],
      "text/plain": [
       "  Story Pier Output Case Location                   V1                  V2  \\\n",
       "0  Roof   PA          EY   Bottom  -3810.4269671674183  15804.310691542862   \n",
       "1  Roof   PD          EY   Bottom   -7925.835351106397  19730.099622941623   \n",
       "2   St4   PA          EY   Bottom    -8251.57223671287  41637.617343441816   \n",
       "3   St4   PD          EY   Bottom  -13733.551492014802   46363.99835570217   \n",
       "4   St3   PA          EY   Bottom  -12524.321619605606   57608.35367622349   \n",
       "\n",
       "                    V3                   V4                   V5  \\\n",
       "0  -122.08653650643586   -549402.2355357398  -15960.764038734616   \n",
       "1    53.83346510553132    772209.5361257877  -3691.1150826993985   \n",
       "2   -86.29642500713152  -300654.97881902533   -9618.479980287264   \n",
       "3  -132.72684725954545    482168.0075463219  -13443.767737050332   \n",
       "4  -117.52641118085953   -383149.5888921187  -10763.425355175874   \n",
       "\n",
       "                   V6  \n",
       "0  2710508.1169262845  \n",
       "1   2966151.356253169  \n",
       "2  13740463.300083032  \n",
       "3  15145310.845355691  \n",
       "4   29970573.18344831  "
      ]
     },
     "execution_count": 45,
     "metadata": {},
     "output_type": "execute_result"
    }
   ],
   "source": [
    "df = pd.DataFrame(data, columns=['Story', 'Pier', 'Output Case', 'Location', 'V1', 'V2', 'V3', 'V4', 'V5', 'V6'])\n",
    "df.head()"
   ]
  },
  {
   "cell_type": "code",
   "execution_count": 46,
   "metadata": {},
   "outputs": [
    {
     "data": {
      "text/html": [
       "<div>\n",
       "<style scoped>\n",
       "    .dataframe tbody tr th:only-of-type {\n",
       "        vertical-align: middle;\n",
       "    }\n",
       "\n",
       "    .dataframe tbody tr th {\n",
       "        vertical-align: top;\n",
       "    }\n",
       "\n",
       "    .dataframe thead th {\n",
       "        text-align: right;\n",
       "    }\n",
       "</style>\n",
       "<table border=\"1\" class=\"dataframe\">\n",
       "  <thead>\n",
       "    <tr style=\"text-align: right;\">\n",
       "      <th></th>\n",
       "      <th>Story</th>\n",
       "      <th>Pier</th>\n",
       "      <th>Output Case</th>\n",
       "      <th>Location</th>\n",
       "      <th>V2</th>\n",
       "      <th>V3</th>\n",
       "    </tr>\n",
       "  </thead>\n",
       "  <tbody>\n",
       "    <tr>\n",
       "      <th>0</th>\n",
       "      <td>Roof</td>\n",
       "      <td>PA</td>\n",
       "      <td>EY</td>\n",
       "      <td>Bottom</td>\n",
       "      <td>15804.310691542862</td>\n",
       "      <td>-122.08653650643586</td>\n",
       "    </tr>\n",
       "    <tr>\n",
       "      <th>1</th>\n",
       "      <td>Roof</td>\n",
       "      <td>PD</td>\n",
       "      <td>EY</td>\n",
       "      <td>Bottom</td>\n",
       "      <td>19730.099622941623</td>\n",
       "      <td>53.83346510553132</td>\n",
       "    </tr>\n",
       "    <tr>\n",
       "      <th>2</th>\n",
       "      <td>St4</td>\n",
       "      <td>PA</td>\n",
       "      <td>EY</td>\n",
       "      <td>Bottom</td>\n",
       "      <td>41637.617343441816</td>\n",
       "      <td>-86.29642500713152</td>\n",
       "    </tr>\n",
       "    <tr>\n",
       "      <th>3</th>\n",
       "      <td>St4</td>\n",
       "      <td>PD</td>\n",
       "      <td>EY</td>\n",
       "      <td>Bottom</td>\n",
       "      <td>46363.99835570217</td>\n",
       "      <td>-132.72684725954545</td>\n",
       "    </tr>\n",
       "    <tr>\n",
       "      <th>4</th>\n",
       "      <td>St3</td>\n",
       "      <td>PA</td>\n",
       "      <td>EY</td>\n",
       "      <td>Bottom</td>\n",
       "      <td>57608.35367622349</td>\n",
       "      <td>-117.52641118085953</td>\n",
       "    </tr>\n",
       "  </tbody>\n",
       "</table>\n",
       "</div>"
      ],
      "text/plain": [
       "  Story Pier Output Case Location                  V2                   V3\n",
       "0  Roof   PA          EY   Bottom  15804.310691542862  -122.08653650643586\n",
       "1  Roof   PD          EY   Bottom  19730.099622941623    53.83346510553132\n",
       "2   St4   PA          EY   Bottom  41637.617343441816   -86.29642500713152\n",
       "3   St4   PD          EY   Bottom   46363.99835570217  -132.72684725954545\n",
       "4   St3   PA          EY   Bottom   57608.35367622349  -117.52641118085953"
      ]
     },
     "execution_count": 46,
     "metadata": {},
     "output_type": "execute_result"
    }
   ],
   "source": [
    "new_df = df.drop(['V1', 'V4', 'V5', 'V6'], axis=1)\n",
    "new_df.head()"
   ]
  },
  {
   "cell_type": "code",
   "execution_count": 47,
   "metadata": {},
   "outputs": [
    {
     "name": "stdout",
     "output_type": "stream",
     "text": [
      "<class 'pandas.core.frame.DataFrame'>\n",
      "RangeIndex: 10 entries, 0 to 9\n",
      "Data columns (total 6 columns):\n",
      " #   Column       Non-Null Count  Dtype \n",
      "---  ------       --------------  ----- \n",
      " 0   Story        10 non-null     object\n",
      " 1   Pier         10 non-null     object\n",
      " 2   Output Case  10 non-null     object\n",
      " 3   Location     10 non-null     object\n",
      " 4   V2           10 non-null     object\n",
      " 5   V3           10 non-null     object\n",
      "dtypes: object(6)\n",
      "memory usage: 608.0+ bytes\n"
     ]
    }
   ],
   "source": [
    "new_df.info()"
   ]
  },
  {
   "cell_type": "code",
   "execution_count": 48,
   "metadata": {},
   "outputs": [
    {
     "name": "stdout",
     "output_type": "stream",
     "text": [
      "<class 'pandas.core.frame.DataFrame'>\n",
      "RangeIndex: 10 entries, 0 to 9\n",
      "Data columns (total 6 columns):\n",
      " #   Column       Non-Null Count  Dtype  \n",
      "---  ------       --------------  -----  \n",
      " 0   Story        10 non-null     string \n",
      " 1   Pier         10 non-null     string \n",
      " 2   Output Case  10 non-null     string \n",
      " 3   Location     10 non-null     string \n",
      " 4   V2           10 non-null     float64\n",
      " 5   V3           10 non-null     float64\n",
      "dtypes: float64(2), string(4)\n",
      "memory usage: 608.0 bytes\n"
     ]
    }
   ],
   "source": [
    "df2 = new_df.astype({'Story': 'string', 'Pier': 'string', 'Output Case': 'string', 'Location': 'string', 'V2': 'float64', 'V3': 'float64'})\n",
    "df2.info()"
   ]
  },
  {
   "cell_type": "code",
   "execution_count": 49,
   "metadata": {},
   "outputs": [
    {
     "data": {
      "text/html": [
       "<div>\n",
       "<style scoped>\n",
       "    .dataframe tbody tr th:only-of-type {\n",
       "        vertical-align: middle;\n",
       "    }\n",
       "\n",
       "    .dataframe tbody tr th {\n",
       "        vertical-align: top;\n",
       "    }\n",
       "\n",
       "    .dataframe thead th {\n",
       "        text-align: right;\n",
       "    }\n",
       "</style>\n",
       "<table border=\"1\" class=\"dataframe\">\n",
       "  <thead>\n",
       "    <tr style=\"text-align: right;\">\n",
       "      <th></th>\n",
       "      <th>Story</th>\n",
       "      <th>Pier</th>\n",
       "      <th>Output Case</th>\n",
       "      <th>Location</th>\n",
       "      <th>V2</th>\n",
       "      <th>V3</th>\n",
       "    </tr>\n",
       "  </thead>\n",
       "  <tbody>\n",
       "    <tr>\n",
       "      <th>0</th>\n",
       "      <td>Roof</td>\n",
       "      <td>PA</td>\n",
       "      <td>EY</td>\n",
       "      <td>Bottom</td>\n",
       "      <td>15804.310692</td>\n",
       "      <td>-122.086537</td>\n",
       "    </tr>\n",
       "    <tr>\n",
       "      <th>1</th>\n",
       "      <td>Roof</td>\n",
       "      <td>PD</td>\n",
       "      <td>EY</td>\n",
       "      <td>Bottom</td>\n",
       "      <td>19730.099623</td>\n",
       "      <td>53.833465</td>\n",
       "    </tr>\n",
       "    <tr>\n",
       "      <th>2</th>\n",
       "      <td>St4</td>\n",
       "      <td>PA</td>\n",
       "      <td>EY</td>\n",
       "      <td>Bottom</td>\n",
       "      <td>41637.617343</td>\n",
       "      <td>-86.296425</td>\n",
       "    </tr>\n",
       "    <tr>\n",
       "      <th>3</th>\n",
       "      <td>St4</td>\n",
       "      <td>PD</td>\n",
       "      <td>EY</td>\n",
       "      <td>Bottom</td>\n",
       "      <td>46363.998356</td>\n",
       "      <td>-132.726847</td>\n",
       "    </tr>\n",
       "    <tr>\n",
       "      <th>4</th>\n",
       "      <td>St3</td>\n",
       "      <td>PA</td>\n",
       "      <td>EY</td>\n",
       "      <td>Bottom</td>\n",
       "      <td>57608.353676</td>\n",
       "      <td>-117.526411</td>\n",
       "    </tr>\n",
       "  </tbody>\n",
       "</table>\n",
       "</div>"
      ],
      "text/plain": [
       "  Story Pier Output Case Location            V2          V3\n",
       "0  Roof   PA          EY   Bottom  15804.310692 -122.086537\n",
       "1  Roof   PD          EY   Bottom  19730.099623   53.833465\n",
       "2   St4   PA          EY   Bottom  41637.617343  -86.296425\n",
       "3   St4   PD          EY   Bottom  46363.998356 -132.726847\n",
       "4   St3   PA          EY   Bottom  57608.353676 -117.526411"
      ]
     },
     "execution_count": 49,
     "metadata": {},
     "output_type": "execute_result"
    }
   ],
   "source": [
    "df2.head()"
   ]
  },
  {
   "cell_type": "code",
   "execution_count": 50,
   "metadata": {},
   "outputs": [
    {
     "data": {
      "text/html": [
       "<div>\n",
       "<style scoped>\n",
       "    .dataframe tbody tr th:only-of-type {\n",
       "        vertical-align: middle;\n",
       "    }\n",
       "\n",
       "    .dataframe tbody tr th {\n",
       "        vertical-align: top;\n",
       "    }\n",
       "\n",
       "    .dataframe thead th {\n",
       "        text-align: right;\n",
       "    }\n",
       "</style>\n",
       "<table border=\"1\" class=\"dataframe\">\n",
       "  <thead>\n",
       "    <tr style=\"text-align: right;\">\n",
       "      <th></th>\n",
       "      <th>Story</th>\n",
       "      <th>Pier</th>\n",
       "      <th>Output Case</th>\n",
       "      <th>Location</th>\n",
       "      <th>V2</th>\n",
       "      <th>V3</th>\n",
       "    </tr>\n",
       "  </thead>\n",
       "  <tbody>\n",
       "    <tr>\n",
       "      <th>0</th>\n",
       "      <td>Roof</td>\n",
       "      <td>PA</td>\n",
       "      <td>EY</td>\n",
       "      <td>Bottom</td>\n",
       "      <td>15.804311</td>\n",
       "      <td>-0.122087</td>\n",
       "    </tr>\n",
       "    <tr>\n",
       "      <th>1</th>\n",
       "      <td>Roof</td>\n",
       "      <td>PD</td>\n",
       "      <td>EY</td>\n",
       "      <td>Bottom</td>\n",
       "      <td>19.730100</td>\n",
       "      <td>0.053833</td>\n",
       "    </tr>\n",
       "    <tr>\n",
       "      <th>2</th>\n",
       "      <td>St4</td>\n",
       "      <td>PA</td>\n",
       "      <td>EY</td>\n",
       "      <td>Bottom</td>\n",
       "      <td>41.637617</td>\n",
       "      <td>-0.086296</td>\n",
       "    </tr>\n",
       "    <tr>\n",
       "      <th>3</th>\n",
       "      <td>St4</td>\n",
       "      <td>PD</td>\n",
       "      <td>EY</td>\n",
       "      <td>Bottom</td>\n",
       "      <td>46.363998</td>\n",
       "      <td>-0.132727</td>\n",
       "    </tr>\n",
       "    <tr>\n",
       "      <th>4</th>\n",
       "      <td>St3</td>\n",
       "      <td>PA</td>\n",
       "      <td>EY</td>\n",
       "      <td>Bottom</td>\n",
       "      <td>57.608354</td>\n",
       "      <td>-0.117526</td>\n",
       "    </tr>\n",
       "  </tbody>\n",
       "</table>\n",
       "</div>"
      ],
      "text/plain": [
       "  Story Pier Output Case Location         V2        V3\n",
       "0  Roof   PA          EY   Bottom  15.804311 -0.122087\n",
       "1  Roof   PD          EY   Bottom  19.730100  0.053833\n",
       "2   St4   PA          EY   Bottom  41.637617 -0.086296\n",
       "3   St4   PD          EY   Bottom  46.363998 -0.132727\n",
       "4   St3   PA          EY   Bottom  57.608354 -0.117526"
      ]
     },
     "execution_count": 50,
     "metadata": {},
     "output_type": "execute_result"
    }
   ],
   "source": [
    "df2['V2'] = df2['V2']/1000\n",
    "df2['V3'] = df2['V3']/1000\n",
    "df2.head()"
   ]
  },
  {
   "cell_type": "code",
   "execution_count": 51,
   "metadata": {},
   "outputs": [],
   "source": [
    "df2.to_excel('appr_wall.xlsx')"
   ]
  },
  {
   "cell_type": "code",
   "execution_count": null,
   "metadata": {},
   "outputs": [],
   "source": []
  }
 ],
 "metadata": {
  "kernelspec": {
   "display_name": "Python 3.8.10 64-bit",
   "language": "python",
   "name": "python3"
  },
  "language_info": {
   "codemirror_mode": {
    "name": "ipython",
    "version": 3
   },
   "file_extension": ".py",
   "mimetype": "text/x-python",
   "name": "python",
   "nbconvert_exporter": "python",
   "pygments_lexer": "ipython3",
   "version": "3.8.10"
  },
  "orig_nbformat": 4,
  "vscode": {
   "interpreter": {
    "hash": "916dbcbb3f70747c44a77c7bcd40155683ae19c65e1c03b4aa3499c5328201f1"
   }
  }
 },
 "nbformat": 4,
 "nbformat_minor": 2
}
