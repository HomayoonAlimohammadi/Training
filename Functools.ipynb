{
 "cells": [
  {
   "cell_type": "code",
   "execution_count": 2,
   "metadata": {},
   "outputs": [
    {
     "name": "stdout",
     "output_type": "stream",
     "text": [
      "sorted list : ['geeksa', 'for', 'geeks']\n"
     ]
    }
   ],
   "source": [
    "import functools\n",
    "  \n",
    "# function to sort according to last character\n",
    "def cmp_fun(a, b):\n",
    "    if a[-1] > b[-1]:\n",
    "        return 1\n",
    "    elif a[-1] < b[-1]:\n",
    "        return -1\n",
    "    else:\n",
    "        return 0\n",
    "  \n",
    "list1 = ['geeksa', 'for', 'geeks']\n",
    "l = sorted(list1, key = functools.cmp_to_key(cmp_fun))\n",
    "print('sorted list :', l)"
   ]
  },
  {
   "cell_type": "code",
   "execution_count": 6,
   "metadata": {},
   "outputs": [
    {
     "name": "stdout",
     "output_type": "stream",
     "text": [
      "9.131431579589844e-05\n",
      "0.10835981369018555\n"
     ]
    },
    {
     "data": {
      "text/plain": [
       "CacheInfo(hits=27, misses=30, maxsize=128, currsize=30)"
      ]
     },
     "execution_count": 6,
     "metadata": {},
     "output_type": "execute_result"
    }
   ],
   "source": [
    "from functools import lru_cache\n",
    "from time import time\n",
    "\n",
    "\n",
    "@lru_cache\n",
    "def fibb(n):\n",
    "\n",
    "    if n < 3:\n",
    "        return 1\n",
    "\n",
    "    return fibb(n-1) + fibb(n-2)\n",
    "\n",
    "def fibb2(n):\n",
    "\n",
    "    if n < 3:\n",
    "        return 1\n",
    "\n",
    "    return fibb2(n-1) + fibb2(n-2)\n",
    "\n",
    "t0 = time()\n",
    "fibb(30)\n",
    "print(time() - t0)\n",
    "\n",
    "t0 = time()\n",
    "fibb2(30)\n",
    "print(time() - t0)\n",
    "fibb.cache_info()"
   ]
  },
  {
   "cell_type": "code",
   "execution_count": 27,
   "metadata": {},
   "outputs": [
    {
     "name": "stdout",
     "output_type": "stream",
     "text": [
      "int\n",
      "2\n",
      "str\n",
      "11111\n",
      "bool\n",
      "True\n",
      "NoneType\n",
      "None\n"
     ]
    }
   ],
   "source": [
    "from functools import singledispatch, singledispatchmethod\n",
    "\n",
    "@singledispatch\n",
    "def func(a: int) -> int:\n",
    "    print('int')\n",
    "    return 2 * a\n",
    "\n",
    "@func.register\n",
    "def _(a: str) -> str:\n",
    "    print('str')\n",
    "    return 5 * a\n",
    "\n",
    "@func.register(bool)\n",
    "def _(a):\n",
    "    print('bool')\n",
    "    return a\n",
    "\n",
    "def _(a):\n",
    "    print('NoneType')\n",
    "    return None\n",
    "\n",
    "func.register(type(None), _)\n",
    "print(func(1))\n",
    "print(func('1'))\n",
    "print(func(True))\n",
    "print(func(None))"
   ]
  },
  {
   "cell_type": "code",
   "execution_count": 30,
   "metadata": {},
   "outputs": [
    {
     "name": "stdout",
     "output_type": "stream",
     "text": [
      "int\n",
      "2\n",
      "str\n",
      "11111\n",
      "bool\n",
      "True\n",
      "NoneType\n",
      "None\n"
     ]
    }
   ],
   "source": [
    "class A:\n",
    "    \n",
    "    @singledispatchmethod\n",
    "    def func(self, a: int) -> int:\n",
    "        print('int')\n",
    "        return 2 * a\n",
    "\n",
    "    @func.register\n",
    "    def _(self, a: str) -> str:\n",
    "        print('str')\n",
    "        return 5 * a\n",
    "\n",
    "    @func.register(bool)\n",
    "    def _(self, a):\n",
    "        print('bool')\n",
    "        return a\n",
    "\n",
    "    def _(self, a):\n",
    "        print('NoneType')\n",
    "        return None\n",
    "\n",
    "\n",
    "a = A()\n",
    "a.func.register(type(None), a._)\n",
    "print(a.func(1))\n",
    "print(a.func('1'))\n",
    "print(a.func(True))\n",
    "print(a.func(None))"
   ]
  }
 ],
 "metadata": {
  "interpreter": {
   "hash": "916dbcbb3f70747c44a77c7bcd40155683ae19c65e1c03b4aa3499c5328201f1"
  },
  "kernelspec": {
   "display_name": "Python 3.8.10 64-bit",
   "language": "python",
   "name": "python3"
  },
  "language_info": {
   "codemirror_mode": {
    "name": "ipython",
    "version": 3
   },
   "file_extension": ".py",
   "mimetype": "text/x-python",
   "name": "python",
   "nbconvert_exporter": "python",
   "pygments_lexer": "ipython3",
   "version": "3.8.10"
  },
  "orig_nbformat": 4
 },
 "nbformat": 4,
 "nbformat_minor": 2
}
